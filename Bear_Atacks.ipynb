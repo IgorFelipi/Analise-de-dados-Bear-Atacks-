{
  "nbformat": 4,
  "nbformat_minor": 0,
  "metadata": {
    "colab": {
      "provenance": [],
      "include_colab_link": true
    },
    "kernelspec": {
      "name": "python3",
      "display_name": "Python 3"
    },
    "language_info": {
      "name": "python"
    }
  },
  "cells": [
    {
      "cell_type": "markdown",
      "metadata": {
        "id": "view-in-github",
        "colab_type": "text"
      },
      "source": [
        "<a href=\"https://colab.research.google.com/github/IgorFelipi/Analise-de-dados-Bear-Atacks-/blob/main/Bear_Atacks.ipynb\" target=\"_parent\"><img src=\"https://colab.research.google.com/assets/colab-badge.svg\" alt=\"Open In Colab\"/></a>"
      ]
    },
    {
      "cell_type": "code",
      "execution_count": null,
      "metadata": {
        "id": "ftUfKEW9CHMi"
      },
      "outputs": [],
      "source": [
        "import pandas as pd\n",
        "import numpy as np\n",
        "import matplotlib.pyplot as plt\n",
        "import seaborn as sns"
      ]
    },
    {
      "cell_type": "code",
      "source": [
        "df = pd.read_csv('data (3).csv')"
      ],
      "metadata": {
        "id": "1VB0ZDyGGQjd"
      },
      "execution_count": null,
      "outputs": []
    },
    {
      "cell_type": "markdown",
      "source": [
        "**TRABALHANDO A PLANILHA, LIMPANDO E ATUALIZANDO OS DEVIDOS TIPOS DE DADOS**"
      ],
      "metadata": {
        "id": "1BqDX_92YAtK"
      }
    },
    {
      "cell_type": "code",
      "source": [
        "df.dropna(inplace=True)"
      ],
      "metadata": {
        "id": "wl7tz0KtMJyt"
      },
      "execution_count": null,
      "outputs": []
    },
    {
      "cell_type": "code",
      "source": [
        "df.isnull().sum()"
      ],
      "metadata": {
        "id": "jqBnMZi6MUcN"
      },
      "execution_count": null,
      "outputs": []
    },
    {
      "cell_type": "code",
      "source": [
        "df.dtypes\n",
        "df[' age'] = df[' age'].astype(int)"
      ],
      "metadata": {
        "id": "1tpZNHf-IIa8"
      },
      "execution_count": 36,
      "outputs": []
    },
    {
      "cell_type": "code",
      "source": [
        "df['Date']= pd.to_datetime(df['Date'])"
      ],
      "metadata": {
        "id": "HPFj6LjjIOM0"
      },
      "execution_count": null,
      "outputs": []
    },
    {
      "cell_type": "code",
      "source": [
        "df.head()"
      ],
      "metadata": {
        "id": "MGpT2H7iMasF"
      },
      "execution_count": null,
      "outputs": []
    },
    {
      "cell_type": "markdown",
      "source": [
        "**FAZENDO A ANALISE DE ATAQUES POR ANO E GENERO**"
      ],
      "metadata": {
        "id": "4HXwBN5YRc5_"
      }
    },
    {
      "cell_type": "code",
      "source": [
        "# @title Qual gênero sofre mais ataques.\n",
        "# Com isso criamos uma variavel de ataque por ano e vemos que o maior fora 2018 com 6 no total\n",
        "\n",
        "atacks_per_year = df.groupby(['Year', 'gender']).size().reset_index(name='count')\n",
        "\n",
        "gender_total = atacks_per_year.groupby('Year')['count'].sum().reset_index()\n",
        "\n",
        "#gender_total.describe()\n",
        "\n",
        "# Neste ponto usamos novamente para saber qual o genero mais atacado, male or female\n",
        "Gender_count = atacks_per_year.groupby('gender')['count'].sum().reset_index(name='total_atacks')\n",
        "\n",
        "total_atacks_overall =  Gender_count['total_atacks'].sum()\n",
        "\n",
        "# Por fim temos a porcentagem e com isso concluimos que os homens sofrem 46% a mais ataques que as mulheres\n",
        "Gender_count['percentage'] = (Gender_count['total_atacks'] / total_atacks_overall) * 100\n",
        "Gender_count = Gender_count.sort_values(by='percentage', ascending=False)\n",
        "display(Gender_count)\n",
        "\n"
      ],
      "metadata": {
        "id": "qsdrX8lNMljc",
        "cellView": "form"
      },
      "execution_count": null,
      "outputs": []
    },
    {
      "cell_type": "markdown",
      "source": [
        "TIPO DE URSO POR LOCALIZAÇÃO, AONDE TEM MAIS ATAQUES"
      ],
      "metadata": {
        "id": "_nKGs3CVYfQS"
      }
    },
    {
      "cell_type": "code",
      "source": [
        "# @title Local de mais ataques\n",
        "atacks_by_location = df.groupby('Location').size().reset_index(name='total_atacks')\n",
        "atacks_by_location = atacks_by_location.sort_values(by='total_atacks', ascending=False)\n",
        "most_atacks_location = atacks_by_location.iloc[0]\n",
        "display(most_atacks_location)\n",
        "\n",
        "df_most_atacks_location = df[df['Location'] == most_atacks_location['Location']]\n",
        "\n",
        "atacks_by_gender = df_most_atacks_location.groupby('gender').size().reset_index(name='total_atacks')\n",
        "atacks_by_gender = atacks_by_gender.sort_values(by = 'total_atacks', ascending=False)\n",
        "display(atacks_by_gender)"
      ],
      "metadata": {
        "id": "oTU2_1fFQUz-",
        "cellView": "form"
      },
      "execution_count": null,
      "outputs": []
    },
    {
      "cell_type": "markdown",
      "source": [
        "Foi visto que neste código o lugar com mais ataques foi **Glacier National Park Montana** com um total de **10**."
      ],
      "metadata": {
        "id": "9qsXmvWEaObj"
      }
    },
    {
      "cell_type": "code",
      "source": [
        "# @title Urso mais perigoso (mais ataques).\n",
        "Dangerous_bear = df.groupby('Type of bear').size().reset_index(name='Number of Atacks')\n",
        "Dangerous_bear = Dangerous_bear.sort_values(by='Number of Atacks', ascending=False)\n",
        "most_dangerous_bear = Dangerous_bear.iloc[0]\n",
        "\n",
        "\n",
        "df_most_bear_atacks = df[df['Type of bear'] == most_dangerous_bear['Type of bear']]\n",
        "\n",
        "atacks_by_ecosystem = df_most_bear_atacks.groupby(['Type', 'Type of bear', 'Year']).size().reset_index(name='total_atacks')\n",
        "atacks_by_ecosystem = atacks_by_ecosystem.sort_values(by='total_atacks', ascending=False)\n",
        "display(atacks_by_ecosystem)"
      ],
      "metadata": {
        "id": "SwXWMoaKZaXy",
        "cellView": "form"
      },
      "execution_count": null,
      "outputs": []
    },
    {
      "cell_type": "markdown",
      "source": [
        "Neste trecho acima concluimos que o urso mais perigoso é o **Brown Bear** e o local que mais atacou juntamente com o ano foi na **Wild** em **2018** com um total de 5 ataques."
      ],
      "metadata": {
        "id": "zIXWN1UlJoHR"
      }
    },
    {
      "cell_type": "code",
      "source": [
        "# @title Total de Mortes e sobreviventes.\n",
        "# Verificando o total de 1 = obito e 0 = sobreviveu\n",
        "People_killed = df.groupby('Only one killed').size().reset_index(name= 'Total')\n",
        "People_killed = People_killed.sort_values(by='Total', ascending=False)\n",
        "\n",
        "filter = \"Wild or captive\"\n",
        "filter_df = df[df['Type'] == filter]\n",
        "\n",
        "# o plt serve para construir o gráfico desejado de porcentagem de sobreviventes\n",
        "plt.figure(figsize=(8,8))\n",
        "plt.pie(People_killed['Total'], labels = People_killed['Only one killed'], autopct= '%1.1f%%', startangle=90)\n",
        "plt.axis('equal')\n",
        "plt.title('Percentage of people killed = 1 or survided = 0')\n",
        "plt.show()\n"
      ],
      "metadata": {
        "id": "L_NhKct9Sx5F",
        "cellView": "form"
      },
      "execution_count": null,
      "outputs": []
    },
    {
      "cell_type": "markdown",
      "source": [
        "VIMOS QUE O TOTAL DE SOBREVIVENTES FOI INFERIOR AO TOTAL DE MORTES, REGISTRANDO UM ALTO INDICE DE SE TORNAR UMA VITIMA FATAL DESTES ATAQUES."
      ],
      "metadata": {
        "id": "T39I3qkrLDoD"
      }
    },
    {
      "cell_type": "code",
      "source": [
        "# @title Proporção de sobrevivência\n",
        "killed_and_type = df.groupby(['Type', 'Only one killed']).size().reset_index(name='total')\n",
        "\n",
        "labels = [f\"{row['Type']} - {'Killed' if row['Only one killed'] == 1 else 'Survived'}\" for _,row in killed_and_type.iterrows()]\n",
        "sizes = killed_and_type['total']\n",
        "\n",
        "plt.figure(figsize=(8,8))\n",
        "plt.pie(sizes, labels=labels, autopct='%1.1f%%', startangle=90)\n",
        "plt.title('Percentage of people killed or survided by wild and Captive')\n",
        "plt.axis('equal')\n",
        "plt.show()"
      ],
      "metadata": {
        "id": "H6t5l54uHRcM",
        "cellView": "form"
      },
      "execution_count": null,
      "outputs": []
    },
    {
      "cell_type": "markdown",
      "source": [
        "COM ESTE GRÁFICO VIMOS QUE A CHANCE DE SOBREVIVER ESTANDO NA FLORESTA (EM QUESTÃO DE PROPROCIONALIDADE) É MAIOR DO QUE ESTANDO EM CATIVEIRO."
      ],
      "metadata": {
        "id": "dzBCv4hhOA-Q"
      }
    },
    {
      "cell_type": "markdown",
      "source": [
        "# º Gerar uma analise com uma LLMs GenAI para esclarecer as descrições dos ataques, qual motivo mais recorrente que possa ocasionar um ataque as humanos."
      ],
      "metadata": {
        "id": "77zDPxQaLjqq"
      }
    },
    {
      "cell_type": "code",
      "source": [
        "# @title IMPORTANDO O GOOGLE GEMINI E USANDO A API_KEY\n",
        "# importando e instalando o google gemini\n",
        "import google.generativeai as genai\n",
        "from google.colab import userdata\n",
        "Api_key = 'SUA GEMINI API AQUI' # @param {type:\"string\"}\n",
        "genai.configure(api_key= Api_key)\n",
        "\n",
        "model = genai.GenerativeModel('gemini-pro')"
      ],
      "metadata": {
        "cellView": "form",
        "id": "iqVydcu4RpvP"
      },
      "execution_count": null,
      "outputs": []
    },
    {
      "cell_type": "code",
      "source": [
        "# @title FAZENDO A DEVIDA ANALISE COM A AJUDA DA API\n",
        "# Fazendo o código para analisar o comportamento das descrições\n",
        "\n",
        "def analisar_descricoes(df):\n",
        "  lista = df['Description'].tolist()\n",
        "  sistema = \"Você é um modelo de análise de texto, para descrever os motivos que levaram ao ataque do urso.\" #@param {type: \"string\"}\n",
        "  prompt = f\"\"\"\n",
        "    {sistema}\n",
        "\n",
        "    Sintetize uma análise geral sobre a lista de descrições fornecidas:\n",
        "    {lista}\n",
        "    \"\"\"\n",
        "\n",
        "     # Gerar resposta\n",
        "  resposta = model.generate_content(prompt)\n",
        "\n",
        "  return resposta.text\n",
        "\n",
        "# Usar a função\n",
        "insights = analisar_descricoes(df)\n",
        "print(insights)"
      ],
      "metadata": {
        "cellView": "form",
        "id": "VP7XSg5KSy5w"
      },
      "execution_count": null,
      "outputs": []
    }
  ]
}